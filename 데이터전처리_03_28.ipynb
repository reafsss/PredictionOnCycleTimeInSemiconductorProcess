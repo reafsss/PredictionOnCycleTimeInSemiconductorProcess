{
  "nbformat": 4,
  "nbformat_minor": 0,
  "metadata": {
    "kernelspec": {
      "display_name": "Python 3",
      "language": "python",
      "name": "python3"
    },
    "language_info": {
      "codemirror_mode": {
        "name": "ipython",
        "version": 3
      },
      "file_extension": ".py",
      "mimetype": "text/x-python",
      "name": "python",
      "nbconvert_exporter": "python",
      "pygments_lexer": "ipython3",
      "version": "3.8.5"
    },
    "toc": {
      "base_numbering": 1,
      "nav_menu": {},
      "number_sections": true,
      "sideBar": true,
      "skip_h1_title": false,
      "title_cell": "Table of Contents",
      "title_sidebar": "Contents",
      "toc_cell": false,
      "toc_position": {},
      "toc_section_display": true,
      "toc_window_display": false
    },
    "varInspector": {
      "cols": {
        "lenName": 16,
        "lenType": 16,
        "lenVar": 40
      },
      "kernels_config": {
        "python": {
          "delete_cmd_postfix": "",
          "delete_cmd_prefix": "del ",
          "library": "var_list.py",
          "varRefreshCmd": "print(var_dic_list())"
        },
        "r": {
          "delete_cmd_postfix": ") ",
          "delete_cmd_prefix": "rm(",
          "library": "var_list.r",
          "varRefreshCmd": "cat(var_dic_list()) "
        }
      },
      "types_to_exclude": [
        "module",
        "function",
        "builtin_function_or_method",
        "instance",
        "_Feature"
      ],
      "window_display": false
    },
    "colab": {
      "name": "데이터전처리_03.28.ipynb",
      "provenance": [],
      "collapsed_sections": []
    }
  },
  "cells": [
    {
      "cell_type": "markdown",
      "metadata": {
        "id": "5v5ZaxOVlNN8"
      },
      "source": [
        "# 데이터 전처리\n",
        "\n",
        "## 라이브러리 import"
      ]
    },
    {
      "cell_type": "code",
      "metadata": {
        "id": "iSg7LDhklNN-"
      },
      "source": [
        "import pandas as pd\n",
        "import numpy as np\n",
        "\n",
        "import matplotlib.pyplot as plt\n",
        "import seaborn as sns\n",
        "\n",
        "from glob import glob\n",
        "import os, random, time, gc, warnings\n",
        "\n",
        "from tqdm import tqdm_notebook\n",
        "\n",
        "import lightgbm as lgbm\n",
        "from sklearn.linear_model import Ridge, Lasso\n",
        "from sklearn.ensemble import RandomForestRegressor\n",
        "from sklearn.tree import DecisionTreeRegressor\n",
        "\n",
        "from sklearn.preprocessing import LabelEncoder\n",
        "from sklearn.model_selection import KFold, StratifiedKFold\n",
        "from sklearn.metrics import mean_squared_error\n",
        "\n",
        "from sklearn.feature_selection import RFECV\n",
        "\n",
        "\n",
        "from sklearn.cluster import KMeans\n",
        "\n",
        "from datetime import datetime\n",
        "\n",
        "from math import sqrt\n",
        "\n",
        "warnings.filterwarnings('ignore')\n",
        "\n",
        "pd.set_option('max_columns', 500)\n",
        "pd.set_option('max_rows', 500)\n",
        "\n",
        "%matplotlib inline"
      ],
      "execution_count": 41,
      "outputs": []
    },
    {
      "cell_type": "code",
      "metadata": {
        "colab": {
          "base_uri": "https://localhost:8080/"
        },
        "id": "RV0z0318mHsd",
        "outputId": "f385fd26-3555-4b67-a812-2813254c597c"
      },
      "source": [
        "from google.colab import drive\n",
        "drive.mount('/content/drive')"
      ],
      "execution_count": 42,
      "outputs": [
        {
          "output_type": "stream",
          "text": [
            "Drive already mounted at /content/drive; to attempt to forcibly remount, call drive.mount(\"/content/drive\", force_remount=True).\n"
          ],
          "name": "stdout"
        }
      ]
    },
    {
      "cell_type": "code",
      "metadata": {
        "colab": {
          "base_uri": "https://localhost:8080/",
          "height": 213
        },
        "id": "UBBsU5RjlNN_",
        "outputId": "62810f0a-869e-41eb-8d88-b88da2e6c5b5"
      },
      "source": [
        "df=pd.read_csv('/content/drive/My Drive/Events_3.csv')\n",
        "print(df.shape)\n",
        "df.head()"
      ],
      "execution_count": 43,
      "outputs": [
        {
          "output_type": "stream",
          "text": [
            "(375, 8)\n"
          ],
          "name": "stdout"
        },
        {
          "output_type": "execute_result",
          "data": {
            "text/html": [
              "<div>\n",
              "<style scoped>\n",
              "    .dataframe tbody tr th:only-of-type {\n",
              "        vertical-align: middle;\n",
              "    }\n",
              "\n",
              "    .dataframe tbody tr th {\n",
              "        vertical-align: top;\n",
              "    }\n",
              "\n",
              "    .dataframe thead th {\n",
              "        text-align: right;\n",
              "    }\n",
              "</style>\n",
              "<table border=\"1\" class=\"dataframe\">\n",
              "  <thead>\n",
              "    <tr style=\"text-align: right;\">\n",
              "      <th></th>\n",
              "      <th>index</th>\n",
              "      <th>m1buffer</th>\n",
              "      <th>m1~m2</th>\n",
              "      <th>m2buffer</th>\n",
              "      <th>m2~m3</th>\n",
              "      <th>m3buffer</th>\n",
              "      <th>cycletime</th>\n",
              "      <th>0:00:37</th>\n",
              "    </tr>\n",
              "  </thead>\n",
              "  <tbody>\n",
              "    <tr>\n",
              "      <th>0</th>\n",
              "      <td>1</td>\n",
              "      <td>2</td>\n",
              "      <td>3</td>\n",
              "      <td>8</td>\n",
              "      <td>5</td>\n",
              "      <td>4</td>\n",
              "      <td>0:13:34</td>\n",
              "      <td>NaN</td>\n",
              "    </tr>\n",
              "    <tr>\n",
              "      <th>1</th>\n",
              "      <td>2</td>\n",
              "      <td>1</td>\n",
              "      <td>2</td>\n",
              "      <td>6</td>\n",
              "      <td>3</td>\n",
              "      <td>2</td>\n",
              "      <td>0:08:38</td>\n",
              "      <td>NaN</td>\n",
              "    </tr>\n",
              "    <tr>\n",
              "      <th>2</th>\n",
              "      <td>3</td>\n",
              "      <td>1</td>\n",
              "      <td>4</td>\n",
              "      <td>5</td>\n",
              "      <td>3</td>\n",
              "      <td>5</td>\n",
              "      <td>0:11:06</td>\n",
              "      <td>NaN</td>\n",
              "    </tr>\n",
              "    <tr>\n",
              "      <th>3</th>\n",
              "      <td>4</td>\n",
              "      <td>2</td>\n",
              "      <td>4</td>\n",
              "      <td>5</td>\n",
              "      <td>7</td>\n",
              "      <td>5</td>\n",
              "      <td>0:14:11</td>\n",
              "      <td>NaN</td>\n",
              "    </tr>\n",
              "    <tr>\n",
              "      <th>4</th>\n",
              "      <td>5</td>\n",
              "      <td>1</td>\n",
              "      <td>4</td>\n",
              "      <td>5</td>\n",
              "      <td>8</td>\n",
              "      <td>2</td>\n",
              "      <td>0:12:20</td>\n",
              "      <td>NaN</td>\n",
              "    </tr>\n",
              "  </tbody>\n",
              "</table>\n",
              "</div>"
            ],
            "text/plain": [
              "   index  m1buffer  m1~m2  m2buffer  m2~m3  m3buffer cycletime  0:00:37\n",
              "0      1         2      3         8      5         4   0:13:34      NaN\n",
              "1      2         1      2         6      3         2   0:08:38      NaN\n",
              "2      3         1      4         5      3         5   0:11:06      NaN\n",
              "3      4         2      4         5      7         5   0:14:11      NaN\n",
              "4      5         1      4         5      8         2   0:12:20      NaN"
            ]
          },
          "metadata": {
            "tags": []
          },
          "execution_count": 43
        }
      ]
    },
    {
      "cell_type": "code",
      "metadata": {
        "colab": {
          "base_uri": "https://localhost:8080/",
          "height": 284
        },
        "id": "_XxDksQIlNOA",
        "outputId": "d7b105b6-39fc-49ee-e9d5-e325a96e2569"
      },
      "source": [
        "df.describe()"
      ],
      "execution_count": 44,
      "outputs": [
        {
          "output_type": "execute_result",
          "data": {
            "text/html": [
              "<div>\n",
              "<style scoped>\n",
              "    .dataframe tbody tr th:only-of-type {\n",
              "        vertical-align: middle;\n",
              "    }\n",
              "\n",
              "    .dataframe tbody tr th {\n",
              "        vertical-align: top;\n",
              "    }\n",
              "\n",
              "    .dataframe thead th {\n",
              "        text-align: right;\n",
              "    }\n",
              "</style>\n",
              "<table border=\"1\" class=\"dataframe\">\n",
              "  <thead>\n",
              "    <tr style=\"text-align: right;\">\n",
              "      <th></th>\n",
              "      <th>index</th>\n",
              "      <th>m1buffer</th>\n",
              "      <th>m1~m2</th>\n",
              "      <th>m2buffer</th>\n",
              "      <th>m2~m3</th>\n",
              "      <th>m3buffer</th>\n",
              "      <th>0:00:37</th>\n",
              "    </tr>\n",
              "  </thead>\n",
              "  <tbody>\n",
              "    <tr>\n",
              "      <th>count</th>\n",
              "      <td>375.000000</td>\n",
              "      <td>375.000000</td>\n",
              "      <td>375.000000</td>\n",
              "      <td>375.000000</td>\n",
              "      <td>375.000000</td>\n",
              "      <td>375.000000</td>\n",
              "      <td>0.0</td>\n",
              "    </tr>\n",
              "    <tr>\n",
              "      <th>mean</th>\n",
              "      <td>188.000000</td>\n",
              "      <td>2.000000</td>\n",
              "      <td>2.437333</td>\n",
              "      <td>5.930667</td>\n",
              "      <td>5.554667</td>\n",
              "      <td>3.474667</td>\n",
              "      <td>NaN</td>\n",
              "    </tr>\n",
              "    <tr>\n",
              "      <th>std</th>\n",
              "      <td>108.397417</td>\n",
              "      <td>0.843345</td>\n",
              "      <td>1.109364</td>\n",
              "      <td>1.399195</td>\n",
              "      <td>1.738699</td>\n",
              "      <td>1.101177</td>\n",
              "      <td>NaN</td>\n",
              "    </tr>\n",
              "    <tr>\n",
              "      <th>min</th>\n",
              "      <td>1.000000</td>\n",
              "      <td>1.000000</td>\n",
              "      <td>1.000000</td>\n",
              "      <td>4.000000</td>\n",
              "      <td>3.000000</td>\n",
              "      <td>2.000000</td>\n",
              "      <td>NaN</td>\n",
              "    </tr>\n",
              "    <tr>\n",
              "      <th>25%</th>\n",
              "      <td>94.500000</td>\n",
              "      <td>1.000000</td>\n",
              "      <td>1.000000</td>\n",
              "      <td>5.000000</td>\n",
              "      <td>4.000000</td>\n",
              "      <td>3.000000</td>\n",
              "      <td>NaN</td>\n",
              "    </tr>\n",
              "    <tr>\n",
              "      <th>50%</th>\n",
              "      <td>188.000000</td>\n",
              "      <td>2.000000</td>\n",
              "      <td>2.000000</td>\n",
              "      <td>6.000000</td>\n",
              "      <td>6.000000</td>\n",
              "      <td>3.000000</td>\n",
              "      <td>NaN</td>\n",
              "    </tr>\n",
              "    <tr>\n",
              "      <th>75%</th>\n",
              "      <td>281.500000</td>\n",
              "      <td>3.000000</td>\n",
              "      <td>3.000000</td>\n",
              "      <td>7.000000</td>\n",
              "      <td>7.000000</td>\n",
              "      <td>4.000000</td>\n",
              "      <td>NaN</td>\n",
              "    </tr>\n",
              "    <tr>\n",
              "      <th>max</th>\n",
              "      <td>375.000000</td>\n",
              "      <td>3.000000</td>\n",
              "      <td>4.000000</td>\n",
              "      <td>8.000000</td>\n",
              "      <td>8.000000</td>\n",
              "      <td>5.000000</td>\n",
              "      <td>NaN</td>\n",
              "    </tr>\n",
              "  </tbody>\n",
              "</table>\n",
              "</div>"
            ],
            "text/plain": [
              "            index    m1buffer       m1~m2    m2buffer       m2~m3    m3buffer  \\\n",
              "count  375.000000  375.000000  375.000000  375.000000  375.000000  375.000000   \n",
              "mean   188.000000    2.000000    2.437333    5.930667    5.554667    3.474667   \n",
              "std    108.397417    0.843345    1.109364    1.399195    1.738699    1.101177   \n",
              "min      1.000000    1.000000    1.000000    4.000000    3.000000    2.000000   \n",
              "25%     94.500000    1.000000    1.000000    5.000000    4.000000    3.000000   \n",
              "50%    188.000000    2.000000    2.000000    6.000000    6.000000    3.000000   \n",
              "75%    281.500000    3.000000    3.000000    7.000000    7.000000    4.000000   \n",
              "max    375.000000    3.000000    4.000000    8.000000    8.000000    5.000000   \n",
              "\n",
              "       0:00:37  \n",
              "count      0.0  \n",
              "mean       NaN  \n",
              "std        NaN  \n",
              "min        NaN  \n",
              "25%        NaN  \n",
              "50%        NaN  \n",
              "75%        NaN  \n",
              "max        NaN  "
            ]
          },
          "metadata": {
            "tags": []
          },
          "execution_count": 44
        }
      ]
    },
    {
      "cell_type": "code",
      "metadata": {
        "colab": {
          "base_uri": "https://localhost:8080/"
        },
        "id": "PtExEZtDlNOA",
        "outputId": "482c3ef7-1446-49f9-b893-0786d5056f8e"
      },
      "source": [
        "df.info()"
      ],
      "execution_count": 45,
      "outputs": [
        {
          "output_type": "stream",
          "text": [
            "<class 'pandas.core.frame.DataFrame'>\n",
            "RangeIndex: 375 entries, 0 to 374\n",
            "Data columns (total 8 columns):\n",
            " #   Column     Non-Null Count  Dtype  \n",
            "---  ------     --------------  -----  \n",
            " 0   index      375 non-null    int64  \n",
            " 1   m1buffer   375 non-null    int64  \n",
            " 2   m1~m2      375 non-null    int64  \n",
            " 3   m2buffer   375 non-null    int64  \n",
            " 4   m2~m3      375 non-null    int64  \n",
            " 5   m3buffer   375 non-null    int64  \n",
            " 6   cycletime  375 non-null    object \n",
            " 7   0:00:37    0 non-null      float64\n",
            "dtypes: float64(1), int64(6), object(1)\n",
            "memory usage: 23.6+ KB\n"
          ],
          "name": "stdout"
        }
      ]
    },
    {
      "cell_type": "code",
      "metadata": {
        "colab": {
          "base_uri": "https://localhost:8080/"
        },
        "id": "TvDlgenqlNOA",
        "outputId": "5d35e4e9-f83b-413f-be38-b263eaf1db74"
      },
      "source": [
        "n=df.isnull().sum()\n",
        "n"
      ],
      "execution_count": 46,
      "outputs": [
        {
          "output_type": "execute_result",
          "data": {
            "text/plain": [
              "index          0\n",
              "m1buffer       0\n",
              "m1~m2          0\n",
              "m2buffer       0\n",
              "m2~m3          0\n",
              "m3buffer       0\n",
              "cycletime      0\n",
              "0:00:37      375\n",
              "dtype: int64"
            ]
          },
          "metadata": {
            "tags": []
          },
          "execution_count": 46
        }
      ]
    },
    {
      "cell_type": "code",
      "metadata": {
        "id": "1VPmT3hdlNOB"
      },
      "source": [
        "drop_column=['index', '0:00:37']\n",
        "df_dropped=df.drop(drop_column, axis=1, inplace=False)"
      ],
      "execution_count": 47,
      "outputs": []
    },
    {
      "cell_type": "code",
      "metadata": {
        "colab": {
          "base_uri": "https://localhost:8080/",
          "height": 195
        },
        "id": "DFdi78OHlNOB",
        "outputId": "81e8bd72-3a1d-4fc4-c2e1-3767f824ef8a"
      },
      "source": [
        "df_dropped.head()"
      ],
      "execution_count": 48,
      "outputs": [
        {
          "output_type": "execute_result",
          "data": {
            "text/html": [
              "<div>\n",
              "<style scoped>\n",
              "    .dataframe tbody tr th:only-of-type {\n",
              "        vertical-align: middle;\n",
              "    }\n",
              "\n",
              "    .dataframe tbody tr th {\n",
              "        vertical-align: top;\n",
              "    }\n",
              "\n",
              "    .dataframe thead th {\n",
              "        text-align: right;\n",
              "    }\n",
              "</style>\n",
              "<table border=\"1\" class=\"dataframe\">\n",
              "  <thead>\n",
              "    <tr style=\"text-align: right;\">\n",
              "      <th></th>\n",
              "      <th>m1buffer</th>\n",
              "      <th>m1~m2</th>\n",
              "      <th>m2buffer</th>\n",
              "      <th>m2~m3</th>\n",
              "      <th>m3buffer</th>\n",
              "      <th>cycletime</th>\n",
              "    </tr>\n",
              "  </thead>\n",
              "  <tbody>\n",
              "    <tr>\n",
              "      <th>0</th>\n",
              "      <td>2</td>\n",
              "      <td>3</td>\n",
              "      <td>8</td>\n",
              "      <td>5</td>\n",
              "      <td>4</td>\n",
              "      <td>0:13:34</td>\n",
              "    </tr>\n",
              "    <tr>\n",
              "      <th>1</th>\n",
              "      <td>1</td>\n",
              "      <td>2</td>\n",
              "      <td>6</td>\n",
              "      <td>3</td>\n",
              "      <td>2</td>\n",
              "      <td>0:08:38</td>\n",
              "    </tr>\n",
              "    <tr>\n",
              "      <th>2</th>\n",
              "      <td>1</td>\n",
              "      <td>4</td>\n",
              "      <td>5</td>\n",
              "      <td>3</td>\n",
              "      <td>5</td>\n",
              "      <td>0:11:06</td>\n",
              "    </tr>\n",
              "    <tr>\n",
              "      <th>3</th>\n",
              "      <td>2</td>\n",
              "      <td>4</td>\n",
              "      <td>5</td>\n",
              "      <td>7</td>\n",
              "      <td>5</td>\n",
              "      <td>0:14:11</td>\n",
              "    </tr>\n",
              "    <tr>\n",
              "      <th>4</th>\n",
              "      <td>1</td>\n",
              "      <td>4</td>\n",
              "      <td>5</td>\n",
              "      <td>8</td>\n",
              "      <td>2</td>\n",
              "      <td>0:12:20</td>\n",
              "    </tr>\n",
              "  </tbody>\n",
              "</table>\n",
              "</div>"
            ],
            "text/plain": [
              "   m1buffer  m1~m2  m2buffer  m2~m3  m3buffer cycletime\n",
              "0         2      3         8      5         4   0:13:34\n",
              "1         1      2         6      3         2   0:08:38\n",
              "2         1      4         5      3         5   0:11:06\n",
              "3         2      4         5      7         5   0:14:11\n",
              "4         1      4         5      8         2   0:12:20"
            ]
          },
          "metadata": {
            "tags": []
          },
          "execution_count": 48
        }
      ]
    },
    {
      "cell_type": "code",
      "metadata": {
        "id": "taJTzPNFlNOC"
      },
      "source": [
        "#sns.lineplot(data=df_dropped, x=\"MCOut1\", y=\"MCOut3\")"
      ],
      "execution_count": 49,
      "outputs": []
    },
    {
      "cell_type": "code",
      "metadata": {
        "id": "Jtdh45JnlNOC"
      },
      "source": [
        "#문자열을 datetime 타입으로 변경\n",
        "#dateval1 = time.strptime(\"25-01-2013 00:00:03:238\", \"%d-%m-%Y %H:%M:%S:%f\")\n",
        "#df_dropped['MCIn1'] = pd.to_datetime(df_dropped['MCIn1'], format=\"%H:%M\")\n",
        "#df_dropped['MCOut1'] = pd.to_datetime(df_dropped['MCOut1'], format=\"%H:%M\")\n",
        "#df_dropped['MCln2'] = pd.to_datetime(df_dropped['MCln2'], format=\"%H:%M\")\n",
        "#df_dropped['MCOut2'] = pd.to_datetime(df_dropped['MCOut2'], format=\"%H:%M\")\n",
        "#df_dropped['MCIn3'] = pd.to_datetime(df_dropped['MCIn3'], format=\"%H:%M\")\n",
        "df_dropped['cycletime'] = pd.to_datetime(df_dropped['cycletime'], format=\"%H:%M:%S\")"
      ],
      "execution_count": 50,
      "outputs": []
    },
    {
      "cell_type": "code",
      "metadata": {
        "id": "iPIlNa3GlNOD"
      },
      "source": [
        "#df_dropped_NotCompleted = df_dropped[df_dropped['completed'] == 0]"
      ],
      "execution_count": 51,
      "outputs": []
    },
    {
      "cell_type": "code",
      "metadata": {
        "id": "3dTitJz-lNOD"
      },
      "source": [
        "#df_dropped_NotCompleted"
      ],
      "execution_count": 52,
      "outputs": []
    },
    {
      "cell_type": "code",
      "metadata": {
        "id": "5_AHMhWwlNOD"
      },
      "source": [
        "# 로그 데이터를 이용해 공정 내 제품 위치를 파악할 수 있는 로직 구현\n",
        "# M1Buffer, M1~M2Conveyor, M2Buffer, M2~M3Conveyor, M3Buffer, (M3~M1Conveyor)"
      ],
      "execution_count": 53,
      "outputs": []
    },
    {
      "cell_type": "code",
      "metadata": {
        "id": "6-2o4cJ2lNOD"
      },
      "source": [
        "# index 38번째 들어오는 제품의 M3Out3 시간 기록\n",
        "# 이것이 target variable"
      ],
      "execution_count": 54,
      "outputs": []
    },
    {
      "cell_type": "code",
      "metadata": {
        "id": "Zw9kP9K6lNOD"
      },
      "source": [
        "# 제품 위치 파악 => 그 다음 들어오는 제품의 M3Out 시간\n",
        "# 이것이 한개의 데이터 셋"
      ],
      "execution_count": 55,
      "outputs": []
    },
    {
      "cell_type": "code",
      "metadata": {
        "id": "5Fye12IFlNOE"
      },
      "source": [
        "# 방법 2\n",
        "# 단순히 한 개의 제품을 추척해 M1In ~ M3Out 시간 취합\n",
        "# 취합된 데이터로 분석"
      ],
      "execution_count": 56,
      "outputs": []
    },
    {
      "cell_type": "code",
      "metadata": {
        "id": "td7Unwj1lNOE"
      },
      "source": [
        "#df_dropped['target'] = df_dropped['MCOut3'] - df_dropped['MCIn1']"
      ],
      "execution_count": 57,
      "outputs": []
    },
    {
      "cell_type": "code",
      "metadata": {
        "id": "qWG_d-ZqlNOE"
      },
      "source": [
        "#df_dropped['target'].head()"
      ],
      "execution_count": 58,
      "outputs": []
    },
    {
      "cell_type": "code",
      "metadata": {
        "colab": {
          "base_uri": "https://localhost:8080/",
          "height": 195
        },
        "id": "d70UTzn3lNOE",
        "outputId": "5d4f90f0-2847-486c-e115-ebcffe6fb060"
      },
      "source": [
        "df_dropped.head()"
      ],
      "execution_count": 59,
      "outputs": [
        {
          "output_type": "execute_result",
          "data": {
            "text/html": [
              "<div>\n",
              "<style scoped>\n",
              "    .dataframe tbody tr th:only-of-type {\n",
              "        vertical-align: middle;\n",
              "    }\n",
              "\n",
              "    .dataframe tbody tr th {\n",
              "        vertical-align: top;\n",
              "    }\n",
              "\n",
              "    .dataframe thead th {\n",
              "        text-align: right;\n",
              "    }\n",
              "</style>\n",
              "<table border=\"1\" class=\"dataframe\">\n",
              "  <thead>\n",
              "    <tr style=\"text-align: right;\">\n",
              "      <th></th>\n",
              "      <th>m1buffer</th>\n",
              "      <th>m1~m2</th>\n",
              "      <th>m2buffer</th>\n",
              "      <th>m2~m3</th>\n",
              "      <th>m3buffer</th>\n",
              "      <th>cycletime</th>\n",
              "    </tr>\n",
              "  </thead>\n",
              "  <tbody>\n",
              "    <tr>\n",
              "      <th>0</th>\n",
              "      <td>2</td>\n",
              "      <td>3</td>\n",
              "      <td>8</td>\n",
              "      <td>5</td>\n",
              "      <td>4</td>\n",
              "      <td>1900-01-01 00:13:34</td>\n",
              "    </tr>\n",
              "    <tr>\n",
              "      <th>1</th>\n",
              "      <td>1</td>\n",
              "      <td>2</td>\n",
              "      <td>6</td>\n",
              "      <td>3</td>\n",
              "      <td>2</td>\n",
              "      <td>1900-01-01 00:08:38</td>\n",
              "    </tr>\n",
              "    <tr>\n",
              "      <th>2</th>\n",
              "      <td>1</td>\n",
              "      <td>4</td>\n",
              "      <td>5</td>\n",
              "      <td>3</td>\n",
              "      <td>5</td>\n",
              "      <td>1900-01-01 00:11:06</td>\n",
              "    </tr>\n",
              "    <tr>\n",
              "      <th>3</th>\n",
              "      <td>2</td>\n",
              "      <td>4</td>\n",
              "      <td>5</td>\n",
              "      <td>7</td>\n",
              "      <td>5</td>\n",
              "      <td>1900-01-01 00:14:11</td>\n",
              "    </tr>\n",
              "    <tr>\n",
              "      <th>4</th>\n",
              "      <td>1</td>\n",
              "      <td>4</td>\n",
              "      <td>5</td>\n",
              "      <td>8</td>\n",
              "      <td>2</td>\n",
              "      <td>1900-01-01 00:12:20</td>\n",
              "    </tr>\n",
              "  </tbody>\n",
              "</table>\n",
              "</div>"
            ],
            "text/plain": [
              "   m1buffer  m1~m2  m2buffer  m2~m3  m3buffer           cycletime\n",
              "0         2      3         8      5         4 1900-01-01 00:13:34\n",
              "1         1      2         6      3         2 1900-01-01 00:08:38\n",
              "2         1      4         5      3         5 1900-01-01 00:11:06\n",
              "3         2      4         5      7         5 1900-01-01 00:14:11\n",
              "4         1      4         5      8         2 1900-01-01 00:12:20"
            ]
          },
          "metadata": {
            "tags": []
          },
          "execution_count": 59
        }
      ]
    },
    {
      "cell_type": "code",
      "metadata": {
        "colab": {
          "base_uri": "https://localhost:8080/"
        },
        "id": "0-AlU7WLo8dE",
        "outputId": "4b910c8a-01f6-43e1-a379-1034a8fcb3d8"
      },
      "source": [
        "df_dropped.info()"
      ],
      "execution_count": 60,
      "outputs": [
        {
          "output_type": "stream",
          "text": [
            "<class 'pandas.core.frame.DataFrame'>\n",
            "RangeIndex: 375 entries, 0 to 374\n",
            "Data columns (total 6 columns):\n",
            " #   Column     Non-Null Count  Dtype         \n",
            "---  ------     --------------  -----         \n",
            " 0   m1buffer   375 non-null    int64         \n",
            " 1   m1~m2      375 non-null    int64         \n",
            " 2   m2buffer   375 non-null    int64         \n",
            " 3   m2~m3      375 non-null    int64         \n",
            " 4   m3buffer   375 non-null    int64         \n",
            " 5   cycletime  375 non-null    datetime64[ns]\n",
            "dtypes: datetime64[ns](1), int64(5)\n",
            "memory usage: 17.7 KB\n"
          ],
          "name": "stdout"
        }
      ]
    },
    {
      "cell_type": "code",
      "metadata": {
        "colab": {
          "base_uri": "https://localhost:8080/"
        },
        "id": "dZzfMPBVodOo",
        "outputId": "0aebe8e5-b84a-4ea2-b69d-9db75b8bcd8e"
      },
      "source": [
        "#timedelta64로 형변환시켜주기위함\n",
        "df_dropped['cycletime_td'] = df_dropped['cycletime'] - pd.datetime(1900, 1, 1, 00, 00, 00)\n",
        "df_dropped['cycletime_td'].head()"
      ],
      "execution_count": 61,
      "outputs": [
        {
          "output_type": "execute_result",
          "data": {
            "text/plain": [
              "0   0 days 00:13:34\n",
              "1   0 days 00:08:38\n",
              "2   0 days 00:11:06\n",
              "3   0 days 00:14:11\n",
              "4   0 days 00:12:20\n",
              "Name: cycletime_td, dtype: timedelta64[ns]"
            ]
          },
          "metadata": {
            "tags": []
          },
          "execution_count": 61
        }
      ]
    },
    {
      "cell_type": "code",
      "metadata": {
        "colab": {
          "base_uri": "https://localhost:8080/"
        },
        "id": "WVafp8gHrjR_",
        "outputId": "37989163-e372-44ce-d0bc-4677509b00a4"
      },
      "source": [
        "#초단위로 시간 변환\n",
        "df_dropped['cycletime_td']=df_dropped['cycletime_td'].dt.total_seconds()\n",
        "df_dropped['cycletime_td'].head()"
      ],
      "execution_count": 62,
      "outputs": [
        {
          "output_type": "execute_result",
          "data": {
            "text/plain": [
              "0    814.0\n",
              "1    518.0\n",
              "2    666.0\n",
              "3    851.0\n",
              "4    740.0\n",
              "Name: cycletime_td, dtype: float64"
            ]
          },
          "metadata": {
            "tags": []
          },
          "execution_count": 62
        }
      ]
    },
    {
      "cell_type": "code",
      "metadata": {
        "colab": {
          "base_uri": "https://localhost:8080/",
          "height": 195
        },
        "id": "DiipQqWUr_3L",
        "outputId": "9d21d62f-c380-40c3-ce20-ebb71d6a1a7b"
      },
      "source": [
        "drop_column=['cycletime']\n",
        "df_dropped_2=df_dropped.drop(drop_column, axis=1, inplace=False)\n",
        "df_dropped_2.head()"
      ],
      "execution_count": 63,
      "outputs": [
        {
          "output_type": "execute_result",
          "data": {
            "text/html": [
              "<div>\n",
              "<style scoped>\n",
              "    .dataframe tbody tr th:only-of-type {\n",
              "        vertical-align: middle;\n",
              "    }\n",
              "\n",
              "    .dataframe tbody tr th {\n",
              "        vertical-align: top;\n",
              "    }\n",
              "\n",
              "    .dataframe thead th {\n",
              "        text-align: right;\n",
              "    }\n",
              "</style>\n",
              "<table border=\"1\" class=\"dataframe\">\n",
              "  <thead>\n",
              "    <tr style=\"text-align: right;\">\n",
              "      <th></th>\n",
              "      <th>m1buffer</th>\n",
              "      <th>m1~m2</th>\n",
              "      <th>m2buffer</th>\n",
              "      <th>m2~m3</th>\n",
              "      <th>m3buffer</th>\n",
              "      <th>cycletime_td</th>\n",
              "    </tr>\n",
              "  </thead>\n",
              "  <tbody>\n",
              "    <tr>\n",
              "      <th>0</th>\n",
              "      <td>2</td>\n",
              "      <td>3</td>\n",
              "      <td>8</td>\n",
              "      <td>5</td>\n",
              "      <td>4</td>\n",
              "      <td>814.0</td>\n",
              "    </tr>\n",
              "    <tr>\n",
              "      <th>1</th>\n",
              "      <td>1</td>\n",
              "      <td>2</td>\n",
              "      <td>6</td>\n",
              "      <td>3</td>\n",
              "      <td>2</td>\n",
              "      <td>518.0</td>\n",
              "    </tr>\n",
              "    <tr>\n",
              "      <th>2</th>\n",
              "      <td>1</td>\n",
              "      <td>4</td>\n",
              "      <td>5</td>\n",
              "      <td>3</td>\n",
              "      <td>5</td>\n",
              "      <td>666.0</td>\n",
              "    </tr>\n",
              "    <tr>\n",
              "      <th>3</th>\n",
              "      <td>2</td>\n",
              "      <td>4</td>\n",
              "      <td>5</td>\n",
              "      <td>7</td>\n",
              "      <td>5</td>\n",
              "      <td>851.0</td>\n",
              "    </tr>\n",
              "    <tr>\n",
              "      <th>4</th>\n",
              "      <td>1</td>\n",
              "      <td>4</td>\n",
              "      <td>5</td>\n",
              "      <td>8</td>\n",
              "      <td>2</td>\n",
              "      <td>740.0</td>\n",
              "    </tr>\n",
              "  </tbody>\n",
              "</table>\n",
              "</div>"
            ],
            "text/plain": [
              "   m1buffer  m1~m2  m2buffer  m2~m3  m3buffer  cycletime_td\n",
              "0         2      3         8      5         4         814.0\n",
              "1         1      2         6      3         2         518.0\n",
              "2         1      4         5      3         5         666.0\n",
              "3         2      4         5      7         5         851.0\n",
              "4         1      4         5      8         2         740.0"
            ]
          },
          "metadata": {
            "tags": []
          },
          "execution_count": 63
        }
      ]
    },
    {
      "cell_type": "code",
      "metadata": {
        "id": "MUCuFil7lNOF"
      },
      "source": [
        "# 범주형 데이터 변환\n",
        "\n",
        "#df_dropped_ohe = pd.get_dummies(df_dropped, columns=['Uid','CycleState', 'completed'])\n",
        "#df_dropped_ohe.head()"
      ],
      "execution_count": 20,
      "outputs": []
    },
    {
      "cell_type": "code",
      "metadata": {
        "id": "45Oz_fW_lNOF"
      },
      "source": [
        "# 평가함수 정의\n",
        "from sklearn.metrics import mean_squared_error, mean_absolute_error\n",
        "\n",
        "def rmsle(y, pred):\n",
        "    log_y=np.log1p(y)\n",
        "    log_pred=np.log1p(pred)\n",
        "    squared_error=(log_y - log_pred)**2\n",
        "    rmsle=np.sqrt(np.mean(squared_error))\n",
        "    return rmsle\n",
        "\n",
        "def rmse(y, pred):\n",
        "    return np.sqrt(mean_squared_error(y, pred))\n",
        "\n",
        "def evaluate_regr(y, pred):\n",
        "    rmsle_val = rmsle(y, pred)\n",
        "    rmse_val = rmse(y, pred)\n",
        "    mae_val = mean_absolute_error(y, pred)\n",
        "    print('RMSLE: {0:.10f}, RMSE: {1:.10f}, MAE: {2:.10f}'.format(rmsle_val, rmse_val, mae_val))"
      ],
      "execution_count": 75,
      "outputs": []
    },
    {
      "cell_type": "code",
      "metadata": {
        "colab": {
          "base_uri": "https://localhost:8080/"
        },
        "id": "qZH2-GXIlNOF",
        "outputId": "6ef681a9-6b87-45ee-8ef0-5dca5287d01d"
      },
      "source": [
        "# 데이터 분할\n",
        "from sklearn.model_selection import train_test_split, GridSearchCV\n",
        "from sklearn.linear_model import LinearRegression, Ridge, Lasso\n",
        "\n",
        "y_target = df_dropped_2['cycletime_td']\n",
        "X_features = df_dropped_2.drop(['cycletime_td'],axis=1,inplace=False)\n",
        "\n",
        "X_train, X_test, y_train, y_test=train_test_split(X_features, y_target, test_size=0.3, random_state=0)\n",
        "\n",
        "lr_reg=LinearRegression()\n",
        "lr_reg.fit(X_train, y_train)\n",
        "pred=lr_reg.predict(X_test)\n",
        "\n",
        "evaluate_regr(y_test,pred)"
      ],
      "execution_count": 76,
      "outputs": [
        {
          "output_type": "stream",
          "text": [
            "RMSLE: 0.0000000000, RMSE: 0.0000000000, MAE: 0.0000000000\n"
          ],
          "name": "stdout"
        }
      ]
    },
    {
      "cell_type": "code",
      "metadata": {
        "colab": {
          "base_uri": "https://localhost:8080/"
        },
        "id": "X7qnl66wlNOG",
        "outputId": "19db8189-5708-43bc-e15c-dc7ee386d326"
      },
      "source": [
        "def get_top_error_data(y_test, pred, n_tops=5):\n",
        "    result_df = pd.DataFrame(y_test.values, columns=['real_count'])\n",
        "    result_df['predicted_count']=np.round(pred)\n",
        "    result_df['diff']=np.abs(result_df['real_count']-result_df['predicted_count'])\n",
        "    \n",
        "    print(result_df.sort_values('diff', ascending=False)[:n_tops])\n",
        "    \n",
        "get_top_error_data(y_test,pred,n_tops=5)"
      ],
      "execution_count": 67,
      "outputs": [
        {
          "output_type": "stream",
          "text": [
            "    real_count  predicted_count          diff\n",
            "31       925.0            925.0  1.136868e-13\n",
            "80       481.0            481.0  5.684342e-14\n",
            "0        703.0            703.0  0.000000e+00\n",
            "84       777.0            777.0  0.000000e+00\n",
            "82       703.0            703.0  0.000000e+00\n"
          ],
          "name": "stdout"
        }
      ]
    },
    {
      "cell_type": "code",
      "metadata": {
        "colab": {
          "base_uri": "https://localhost:8080/",
          "height": 282
        },
        "id": "cosz69rRs1dA",
        "outputId": "a7976a6a-9d50-4314-986c-e0c7e4f9585d"
      },
      "source": [
        "y_target.hist()"
      ],
      "execution_count": 68,
      "outputs": [
        {
          "output_type": "execute_result",
          "data": {
            "text/plain": [
              "<matplotlib.axes._subplots.AxesSubplot at 0x7f24fa650350>"
            ]
          },
          "metadata": {
            "tags": []
          },
          "execution_count": 68
        },
        {
          "output_type": "display_data",
          "data": {
            "image/png": "[encoded data removed]",
            "text/plain": [
              "<Figure size 432x288 with 1 Axes>"
            ]
          },
          "metadata": {
            "tags": [],
            "needs_background": "light"
          }
        }
      ]
    },
    {
      "cell_type": "code",
      "metadata": {
        "colab": {
          "base_uri": "https://localhost:8080/",
          "height": 282
        },
        "id": "f-CzHUyjs5GP",
        "outputId": "bb803f9a-f49c-4e35-c659-2dc3aa966493"
      },
      "source": [
        "coef=pd.Series(lr_reg.coef_, index=X_features.columns)\n",
        "coef_sort = coef.sort_values(ascending=False)\n",
        "sns.barplot(x=coef_sort.values,y=coef_sort.index)"
      ],
      "execution_count": 69,
      "outputs": [
        {
          "output_type": "execute_result",
          "data": {
            "text/plain": [
              "<matplotlib.axes._subplots.AxesSubplot at 0x7f24fa59c950>"
            ]
          },
          "metadata": {
            "tags": []
          },
          "execution_count": 69
        },
        {
          "output_type": "display_data",
          "data": {
            "image/png": "[encoded data removed]",
            "text/plain": [
              "<Figure size 432x288 with 1 Axes>"
            ]
          },
          "metadata": {
            "tags": [],
            "needs_background": "light"
          }
        }
      ]
    },
    {
      "cell_type": "code",
      "metadata": {
        "colab": {
          "base_uri": "https://localhost:8080/",
          "height": 225
        },
        "id": "FhnQfhvIs7Fq",
        "outputId": "7345913c-940f-46dd-e0a6-1624a646b2c0"
      },
      "source": [
        "corr = df_dropped_2.corr(method = 'pearson')\n",
        "corr"
      ],
      "execution_count": 71,
      "outputs": [
        {
          "output_type": "execute_result",
          "data": {
            "text/html": [
              "<div>\n",
              "<style scoped>\n",
              "    .dataframe tbody tr th:only-of-type {\n",
              "        vertical-align: middle;\n",
              "    }\n",
              "\n",
              "    .dataframe tbody tr th {\n",
              "        vertical-align: top;\n",
              "    }\n",
              "\n",
              "    .dataframe thead th {\n",
              "        text-align: right;\n",
              "    }\n",
              "</style>\n",
              "<table border=\"1\" class=\"dataframe\">\n",
              "  <thead>\n",
              "    <tr style=\"text-align: right;\">\n",
              "      <th></th>\n",
              "      <th>m1buffer</th>\n",
              "      <th>m1~m2</th>\n",
              "      <th>m2buffer</th>\n",
              "      <th>m2~m3</th>\n",
              "      <th>m3buffer</th>\n",
              "      <th>cycletime_td</th>\n",
              "    </tr>\n",
              "  </thead>\n",
              "  <tbody>\n",
              "    <tr>\n",
              "      <th>m1buffer</th>\n",
              "      <td>1.000000</td>\n",
              "      <td>-0.042869</td>\n",
              "      <td>-0.015861</td>\n",
              "      <td>-0.018235</td>\n",
              "      <td>0.112287</td>\n",
              "      <td>0.308091</td>\n",
              "    </tr>\n",
              "    <tr>\n",
              "      <th>m1~m2</th>\n",
              "      <td>-0.042869</td>\n",
              "      <td>1.000000</td>\n",
              "      <td>0.024754</td>\n",
              "      <td>0.016683</td>\n",
              "      <td>-0.014983</td>\n",
              "      <td>0.398793</td>\n",
              "    </tr>\n",
              "    <tr>\n",
              "      <th>m2buffer</th>\n",
              "      <td>-0.015861</td>\n",
              "      <td>0.024754</td>\n",
              "      <td>1.000000</td>\n",
              "      <td>-0.050094</td>\n",
              "      <td>-0.027174</td>\n",
              "      <td>0.461407</td>\n",
              "    </tr>\n",
              "    <tr>\n",
              "      <th>m2~m3</th>\n",
              "      <td>-0.018235</td>\n",
              "      <td>0.016683</td>\n",
              "      <td>-0.050094</td>\n",
              "      <td>1.000000</td>\n",
              "      <td>-0.014986</td>\n",
              "      <td>0.589185</td>\n",
              "    </tr>\n",
              "    <tr>\n",
              "      <th>m3buffer</th>\n",
              "      <td>0.112287</td>\n",
              "      <td>-0.014983</td>\n",
              "      <td>-0.027174</td>\n",
              "      <td>-0.014986</td>\n",
              "      <td>1.000000</td>\n",
              "      <td>0.396950</td>\n",
              "    </tr>\n",
              "    <tr>\n",
              "      <th>cycletime_td</th>\n",
              "      <td>0.308091</td>\n",
              "      <td>0.398793</td>\n",
              "      <td>0.461407</td>\n",
              "      <td>0.589185</td>\n",
              "      <td>0.396950</td>\n",
              "      <td>1.000000</td>\n",
              "    </tr>\n",
              "  </tbody>\n",
              "</table>\n",
              "</div>"
            ],
            "text/plain": [
              "              m1buffer     m1~m2  m2buffer     m2~m3  m3buffer  cycletime_td\n",
              "m1buffer      1.000000 -0.042869 -0.015861 -0.018235  0.112287      0.308091\n",
              "m1~m2        -0.042869  1.000000  0.024754  0.016683 -0.014983      0.398793\n",
              "m2buffer     -0.015861  0.024754  1.000000 -0.050094 -0.027174      0.461407\n",
              "m2~m3        -0.018235  0.016683 -0.050094  1.000000 -0.014986      0.589185\n",
              "m3buffer      0.112287 -0.014983 -0.027174 -0.014986  1.000000      0.396950\n",
              "cycletime_td  0.308091  0.398793  0.461407  0.589185  0.396950      1.000000"
            ]
          },
          "metadata": {
            "tags": []
          },
          "execution_count": 71
        }
      ]
    },
    {
      "cell_type": "code",
      "metadata": {
        "colab": {
          "base_uri": "https://localhost:8080/",
          "height": 443
        },
        "id": "GViDU3Zus_v7",
        "outputId": "80df4026-3078-433d-cb69-f3292b378489"
      },
      "source": [
        "plt.subplots(figsize=(14,7))\n",
        "df_heatmap = sns.heatmap(corr, cbar = True, annot = True, annot_kws={'size' : 10}, fmt = '.2f', square = True, cmap = 'Reds')"
      ],
      "execution_count": 72,
      "outputs": [
        {
          "output_type": "display_data",
          "data": {
            "image/png": "[encoded data removed]",
            "text/plain": [
              "<Figure size 1008x504 with 2 Axes>"
            ]
          },
          "metadata": {
            "tags": [],
            "needs_background": "light"
          }
        }
      ]
    },
    {
      "cell_type": "code",
      "metadata": {
        "id": "0u7cJ-qrtKaQ"
      },
      "source": [
        ""
      ],
      "execution_count": null,
      "outputs": []
    }
  ]
}